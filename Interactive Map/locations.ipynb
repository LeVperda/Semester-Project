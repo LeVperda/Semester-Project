{
 "cells": [
  {
   "cell_type": "code",
   "execution_count": 1,
   "metadata": {},
   "outputs": [],
   "source": [
    "import pandas as pd\n",
    "import numpy as np\n",
    "import reverse_geocoder as rg\n",
    "from bs4 import BeautifulSoup"
   ]
  },
  {
   "attachments": {},
   "cell_type": "markdown",
   "metadata": {},
   "source": [
    "DONT RUN ALL"
   ]
  },
  {
   "cell_type": "code",
   "execution_count": 2,
   "metadata": {},
   "outputs": [
    {
     "data": {
      "text/html": [
       "<div>\n",
       "<style scoped>\n",
       "    .dataframe tbody tr th:only-of-type {\n",
       "        vertical-align: middle;\n",
       "    }\n",
       "\n",
       "    .dataframe tbody tr th {\n",
       "        vertical-align: top;\n",
       "    }\n",
       "\n",
       "    .dataframe thead th {\n",
       "        text-align: right;\n",
       "    }\n",
       "</style>\n",
       "<table border=\"1\" class=\"dataframe\">\n",
       "  <thead>\n",
       "    <tr style=\"text-align: right;\">\n",
       "      <th></th>\n",
       "      <th>berry</th>\n",
       "      <th>observation_date</th>\n",
       "      <th>main_tree_type</th>\n",
       "      <th>forest_development_class</th>\n",
       "      <th>x</th>\n",
       "      <th>y</th>\n",
       "      <th>year</th>\n",
       "      <th>month</th>\n",
       "      <th>day</th>\n",
       "      <th>week_number</th>\n",
       "      <th>monthday</th>\n",
       "      <th>year-month-day</th>\n",
       "      <th>xy</th>\n",
       "      <th>lat</th>\n",
       "      <th>lon</th>\n",
       "      <th>latlon</th>\n",
       "    </tr>\n",
       "  </thead>\n",
       "  <tbody>\n",
       "    <tr>\n",
       "      <th>0</th>\n",
       "      <td>bilberry</td>\n",
       "      <td>2018-07-07</td>\n",
       "      <td>pine</td>\n",
       "      <td>old</td>\n",
       "      <td>410000</td>\n",
       "      <td>7040000</td>\n",
       "      <td>2018</td>\n",
       "      <td>7</td>\n",
       "      <td>7</td>\n",
       "      <td>27</td>\n",
       "      <td>707</td>\n",
       "      <td>2018-07-07</td>\n",
       "      <td>410000-7040000</td>\n",
       "      <td>63.476942</td>\n",
       "      <td>25.193479</td>\n",
       "      <td>63.476942248701-25.193478894290-2018-07-07-bil...</td>\n",
       "    </tr>\n",
       "    <tr>\n",
       "      <th>1</th>\n",
       "      <td>lingonberry</td>\n",
       "      <td>2018-08-06</td>\n",
       "      <td>pine</td>\n",
       "      <td>old</td>\n",
       "      <td>410000</td>\n",
       "      <td>7040000</td>\n",
       "      <td>2018</td>\n",
       "      <td>8</td>\n",
       "      <td>6</td>\n",
       "      <td>32</td>\n",
       "      <td>806</td>\n",
       "      <td>2018-08-06</td>\n",
       "      <td>410000-7040000</td>\n",
       "      <td>63.476942</td>\n",
       "      <td>25.193479</td>\n",
       "      <td>63.476942248701-25.193478894290-2018-08-06-lin...</td>\n",
       "    </tr>\n",
       "    <tr>\n",
       "      <th>2</th>\n",
       "      <td>cloudberry</td>\n",
       "      <td>2018-07-07</td>\n",
       "      <td>pine</td>\n",
       "      <td>clearing</td>\n",
       "      <td>410000</td>\n",
       "      <td>7040000</td>\n",
       "      <td>2018</td>\n",
       "      <td>7</td>\n",
       "      <td>7</td>\n",
       "      <td>27</td>\n",
       "      <td>707</td>\n",
       "      <td>2018-07-07</td>\n",
       "      <td>410000-7040000</td>\n",
       "      <td>63.476942</td>\n",
       "      <td>25.193479</td>\n",
       "      <td>63.476942248701-25.193478894290-2018-07-07-clo...</td>\n",
       "    </tr>\n",
       "    <tr>\n",
       "      <th>3</th>\n",
       "      <td>bilberry</td>\n",
       "      <td>2022-07-16</td>\n",
       "      <td>pine</td>\n",
       "      <td>old</td>\n",
       "      <td>410000</td>\n",
       "      <td>7040000</td>\n",
       "      <td>2022</td>\n",
       "      <td>7</td>\n",
       "      <td>16</td>\n",
       "      <td>28</td>\n",
       "      <td>716</td>\n",
       "      <td>2022-07-16</td>\n",
       "      <td>410000-7040000</td>\n",
       "      <td>63.476942</td>\n",
       "      <td>25.193479</td>\n",
       "      <td>63.476942248701-25.193478894290-2022-07-16-bil...</td>\n",
       "    </tr>\n",
       "    <tr>\n",
       "      <th>4</th>\n",
       "      <td>lingonberry</td>\n",
       "      <td>2022-08-28</td>\n",
       "      <td>pine</td>\n",
       "      <td>old</td>\n",
       "      <td>410000</td>\n",
       "      <td>7040000</td>\n",
       "      <td>2022</td>\n",
       "      <td>8</td>\n",
       "      <td>28</td>\n",
       "      <td>34</td>\n",
       "      <td>828</td>\n",
       "      <td>2022-08-28</td>\n",
       "      <td>410000-7040000</td>\n",
       "      <td>63.476942</td>\n",
       "      <td>25.193479</td>\n",
       "      <td>63.476942248701-25.193478894290-2022-08-28-lin...</td>\n",
       "    </tr>\n",
       "    <tr>\n",
       "      <th>...</th>\n",
       "      <td>...</td>\n",
       "      <td>...</td>\n",
       "      <td>...</td>\n",
       "      <td>...</td>\n",
       "      <td>...</td>\n",
       "      <td>...</td>\n",
       "      <td>...</td>\n",
       "      <td>...</td>\n",
       "      <td>...</td>\n",
       "      <td>...</td>\n",
       "      <td>...</td>\n",
       "      <td>...</td>\n",
       "      <td>...</td>\n",
       "      <td>...</td>\n",
       "      <td>...</td>\n",
       "      <td>...</td>\n",
       "    </tr>\n",
       "    <tr>\n",
       "      <th>851</th>\n",
       "      <td>lingonberry</td>\n",
       "      <td>2020-08-12</td>\n",
       "      <td>spruce</td>\n",
       "      <td>seedling</td>\n",
       "      <td>500000</td>\n",
       "      <td>7080000</td>\n",
       "      <td>2020</td>\n",
       "      <td>8</td>\n",
       "      <td>12</td>\n",
       "      <td>33</td>\n",
       "      <td>812</td>\n",
       "      <td>2020-08-12</td>\n",
       "      <td>500000-7080000</td>\n",
       "      <td>63.847317</td>\n",
       "      <td>27.000016</td>\n",
       "      <td>63.847316635241-27.000015662314-2020-08-12-lin...</td>\n",
       "    </tr>\n",
       "    <tr>\n",
       "      <th>852</th>\n",
       "      <td>cloudberry</td>\n",
       "      <td>2020-07-22</td>\n",
       "      <td>pine</td>\n",
       "      <td>old</td>\n",
       "      <td>500000</td>\n",
       "      <td>7080000</td>\n",
       "      <td>2020</td>\n",
       "      <td>7</td>\n",
       "      <td>22</td>\n",
       "      <td>30</td>\n",
       "      <td>722</td>\n",
       "      <td>2020-07-22</td>\n",
       "      <td>500000-7080000</td>\n",
       "      <td>63.847317</td>\n",
       "      <td>27.000016</td>\n",
       "      <td>63.847316635241-27.000015662314-2020-07-22-clo...</td>\n",
       "    </tr>\n",
       "    <tr>\n",
       "      <th>853</th>\n",
       "      <td>cloudberry</td>\n",
       "      <td>2020-07-15</td>\n",
       "      <td>pine</td>\n",
       "      <td>seedling</td>\n",
       "      <td>560000</td>\n",
       "      <td>7140000</td>\n",
       "      <td>2020</td>\n",
       "      <td>7</td>\n",
       "      <td>15</td>\n",
       "      <td>29</td>\n",
       "      <td>715</td>\n",
       "      <td>2020-07-15</td>\n",
       "      <td>560000-7140000</td>\n",
       "      <td>64.380480</td>\n",
       "      <td>28.243717</td>\n",
       "      <td>64.380480243615-28.243717349216-2020-07-15-clo...</td>\n",
       "    </tr>\n",
       "    <tr>\n",
       "      <th>854</th>\n",
       "      <td>cloudberry</td>\n",
       "      <td>2020-07-18</td>\n",
       "      <td>pine</td>\n",
       "      <td>clearing</td>\n",
       "      <td>400000</td>\n",
       "      <td>7080000</td>\n",
       "      <td>2020</td>\n",
       "      <td>7</td>\n",
       "      <td>18</td>\n",
       "      <td>29</td>\n",
       "      <td>718</td>\n",
       "      <td>2020-07-18</td>\n",
       "      <td>400000-7080000</td>\n",
       "      <td>63.833034</td>\n",
       "      <td>24.967397</td>\n",
       "      <td>63.833033637422-24.967397132992-2020-07-18-clo...</td>\n",
       "    </tr>\n",
       "    <tr>\n",
       "      <th>855</th>\n",
       "      <td>cloudberry</td>\n",
       "      <td>2020-07-20</td>\n",
       "      <td>pine</td>\n",
       "      <td>clearing</td>\n",
       "      <td>440000</td>\n",
       "      <td>7420000</td>\n",
       "      <td>2020</td>\n",
       "      <td>7</td>\n",
       "      <td>20</td>\n",
       "      <td>30</td>\n",
       "      <td>720</td>\n",
       "      <td>2020-07-20</td>\n",
       "      <td>440000-7420000</td>\n",
       "      <td>66.891991</td>\n",
       "      <td>25.629913</td>\n",
       "      <td>66.891990870771-25.629913212991-2020-07-20-clo...</td>\n",
       "    </tr>\n",
       "  </tbody>\n",
       "</table>\n",
       "<p>856 rows × 16 columns</p>\n",
       "</div>"
      ],
      "text/plain": [
       "           berry observation_date main_tree_type forest_development_class  \\\n",
       "0       bilberry       2018-07-07           pine                      old   \n",
       "1    lingonberry       2018-08-06           pine                      old   \n",
       "2     cloudberry       2018-07-07           pine                 clearing   \n",
       "3       bilberry       2022-07-16           pine                      old   \n",
       "4    lingonberry       2022-08-28           pine                      old   \n",
       "..           ...              ...            ...                      ...   \n",
       "851  lingonberry       2020-08-12         spruce                 seedling   \n",
       "852   cloudberry       2020-07-22           pine                      old   \n",
       "853   cloudberry       2020-07-15           pine                 seedling   \n",
       "854   cloudberry       2020-07-18           pine                 clearing   \n",
       "855   cloudberry       2020-07-20           pine                 clearing   \n",
       "\n",
       "          x        y  year  month  day  week_number  monthday year-month-day  \\\n",
       "0    410000  7040000  2018      7    7           27       707     2018-07-07   \n",
       "1    410000  7040000  2018      8    6           32       806     2018-08-06   \n",
       "2    410000  7040000  2018      7    7           27       707     2018-07-07   \n",
       "3    410000  7040000  2022      7   16           28       716     2022-07-16   \n",
       "4    410000  7040000  2022      8   28           34       828     2022-08-28   \n",
       "..      ...      ...   ...    ...  ...          ...       ...            ...   \n",
       "851  500000  7080000  2020      8   12           33       812     2020-08-12   \n",
       "852  500000  7080000  2020      7   22           30       722     2020-07-22   \n",
       "853  560000  7140000  2020      7   15           29       715     2020-07-15   \n",
       "854  400000  7080000  2020      7   18           29       718     2020-07-18   \n",
       "855  440000  7420000  2020      7   20           30       720     2020-07-20   \n",
       "\n",
       "                 xy        lat        lon  \\\n",
       "0    410000-7040000  63.476942  25.193479   \n",
       "1    410000-7040000  63.476942  25.193479   \n",
       "2    410000-7040000  63.476942  25.193479   \n",
       "3    410000-7040000  63.476942  25.193479   \n",
       "4    410000-7040000  63.476942  25.193479   \n",
       "..              ...        ...        ...   \n",
       "851  500000-7080000  63.847317  27.000016   \n",
       "852  500000-7080000  63.847317  27.000016   \n",
       "853  560000-7140000  64.380480  28.243717   \n",
       "854  400000-7080000  63.833034  24.967397   \n",
       "855  440000-7420000  66.891991  25.629913   \n",
       "\n",
       "                                                latlon  \n",
       "0    63.476942248701-25.193478894290-2018-07-07-bil...  \n",
       "1    63.476942248701-25.193478894290-2018-08-06-lin...  \n",
       "2    63.476942248701-25.193478894290-2018-07-07-clo...  \n",
       "3    63.476942248701-25.193478894290-2022-07-16-bil...  \n",
       "4    63.476942248701-25.193478894290-2022-08-28-lin...  \n",
       "..                                                 ...  \n",
       "851  63.847316635241-27.000015662314-2020-08-12-lin...  \n",
       "852  63.847316635241-27.000015662314-2020-07-22-clo...  \n",
       "853  64.380480243615-28.243717349216-2020-07-15-clo...  \n",
       "854  63.833033637422-24.967397132992-2020-07-18-clo...  \n",
       "855  66.891990870771-25.629913212991-2020-07-20-clo...  \n",
       "\n",
       "[856 rows x 16 columns]"
      ]
     },
     "execution_count": 2,
     "metadata": {},
     "output_type": "execute_result"
    }
   ],
   "source": [
    "data = pd.read_csv(\"../data/berry_data_cleaned.csv\")\n",
    "data"
   ]
  },
  {
   "cell_type": "code",
   "execution_count": 3,
   "metadata": {},
   "outputs": [
    {
     "name": "stdout",
     "output_type": "stream",
     "text": [
      "Loading formatted geocoded file...\n"
     ]
    },
    {
     "data": {
      "text/plain": [
       "[{'lat': '63.36667',\n",
       "  'lon': '24.96667',\n",
       "  'name': 'Kinnula',\n",
       "  'admin1': 'Central Finland',\n",
       "  'admin2': 'Saarijaervi-Viitasaari',\n",
       "  'cc': 'FI'}]"
      ]
     },
     "execution_count": 3,
     "metadata": {},
     "output_type": "execute_result"
    }
   ],
   "source": [
    "results = rg.search((63.476942, 25.193479))\n",
    "results\n",
    "#region = results[0]['admin1']"
   ]
  },
  {
   "cell_type": "code",
   "execution_count": 3,
   "metadata": {},
   "outputs": [],
   "source": [
    "def get_region(row):\n",
    "    results = rg.search((row['lat'], row['lon']))\n",
    "    return results[0]['admin1']"
   ]
  },
  {
   "cell_type": "code",
   "execution_count": 4,
   "metadata": {},
   "outputs": [
    {
     "name": "stdout",
     "output_type": "stream",
     "text": [
      "Loading formatted geocoded file...\n"
     ]
    }
   ],
   "source": [
    "data['region'] = data.apply(get_region, axis=1)"
   ]
  },
  {
   "cell_type": "code",
   "execution_count": 5,
   "metadata": {},
   "outputs": [],
   "source": [
    "data.to_csv('region_data.csv')"
   ]
  },
  {
   "cell_type": "code",
   "execution_count": 6,
   "metadata": {},
   "outputs": [
    {
     "data": {
      "text/plain": [
       "Lapland                  161\n",
       "Northern Ostrobothnia    142\n",
       "Kainuu                    85\n",
       "Southern Savonia          70\n",
       "Central Finland           50\n",
       "North Karelia             46\n",
       "Pirkanmaa                 41\n",
       "Southern Ostrobothnia     39\n",
       "Northern Savo             35\n",
       "Varsinais-Suomi           29\n",
       "Uusimaa                   25\n",
       "South Karelia             23\n",
       "Paijanne Tavastia         23\n",
       "Central Ostrobothnia      21\n",
       "Haeme                     19\n",
       "Finnmark Fylke            17\n",
       "Satakunta                 16\n",
       "Republic of Karelia        8\n",
       "Kymenlaakso                4\n",
       "Ostrobothnia               2\n",
       "Name: region, dtype: int64"
      ]
     },
     "execution_count": 6,
     "metadata": {},
     "output_type": "execute_result"
    }
   ],
   "source": [
    "data['region'].value_counts()"
   ]
  },
  {
   "cell_type": "code",
   "execution_count": 7,
   "metadata": {},
   "outputs": [],
   "source": [
    "region_data = data['region'].value_counts().to_frame().T"
   ]
  },
  {
   "cell_type": "code",
   "execution_count": 8,
   "metadata": {},
   "outputs": [],
   "source": [
    "region_codes = {'Lapland': 'FI-10T', 'Northern Ostrobothnia': 'FI-14T', 'Kainuu': 'FI-05T', 'Southern Savonia': 'FI-04T', 'Central Finland': 'FI-08T', 'North Karelia': 'FI-13T', 'Pirkanmaa': 'FI-11T', 'Southern Ostrobothnia': 'FI-03T', 'Northern Savo': 'FI-15T', 'Varsinais-Suomi': 'FI-19T', 'Uusimaa': 'FI-18T', 'South Karelia': 'FI-02T', 'Paijanne Tavastia': 'FI-16T', 'Central Ostrobothnia': 'FI-07T', 'Haeme': 'FI-06T', 'Satakunta': 'FI-17T', 'Kymenlaakso': 'FI-09T', 'Ostrobothnia': 'FI-12T'}"
   ]
  },
  {
   "cell_type": "code",
   "execution_count": 9,
   "metadata": {},
   "outputs": [
    {
     "name": "stderr",
     "output_type": "stream",
     "text": [
      "C:\\Users\\Monit\\AppData\\Local\\Temp\\ipykernel_10740\\3538106780.py:1: FutureWarning: The frame.append method is deprecated and will be removed from pandas in a future version. Use pandas.concat instead.\n",
      "  region_data = region_data.append(region_codes, ignore_index=True)\n"
     ]
    }
   ],
   "source": [
    "region_data = region_data.append(region_codes, ignore_index=True)\n",
    "region_data = region_data.dropna(axis=1)"
   ]
  },
  {
   "cell_type": "code",
   "execution_count": 4,
   "metadata": {},
   "outputs": [],
   "source": [
    "region_data = pd.read_csv('region_data.csv')"
   ]
  },
  {
   "cell_type": "code",
   "execution_count": 5,
   "metadata": {},
   "outputs": [],
   "source": [
    "with open(\"map_page copy.html\") as file:\n",
    "    soup = BeautifulSoup(file, 'html.parser')\n",
    "\n",
    "for index, row in region_data.T.iterrows():\n",
    "    element = soup.find(id=row[1])\n",
    "    element.string = str(row[0])\n",
    "\n",
    "with open('map_page copy.html', \"w\") as file:\n",
    "    file.write(str(soup))"
   ]
  },
  {
   "cell_type": "code",
   "execution_count": 6,
   "metadata": {},
   "outputs": [],
   "source": [
    "region_data.to_csv('region_data.csv')"
   ]
  }
 ],
 "metadata": {
  "kernelspec": {
   "display_name": "Python 3",
   "language": "python",
   "name": "python3"
  },
  "language_info": {
   "codemirror_mode": {
    "name": "ipython",
    "version": 3
   },
   "file_extension": ".py",
   "mimetype": "text/x-python",
   "name": "python",
   "nbconvert_exporter": "python",
   "pygments_lexer": "ipython3",
   "version": "3.9.13"
  },
  "orig_nbformat": 4
 },
 "nbformat": 4,
 "nbformat_minor": 2
}
