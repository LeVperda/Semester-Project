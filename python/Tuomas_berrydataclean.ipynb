{
 "cells": [
  {
   "cell_type": "code",
   "execution_count": 77,
   "metadata": {},
   "outputs": [],
   "source": [
    "# mänty = pine\n",
    "# koivu = birch\n",
    "# kuusi = spruce\n",
    "# muu = other\n",
    "\n",
    "# vanhaa vaivaiskoivua = old soft birch"
   ]
  },
  {
   "cell_type": "code",
   "execution_count": 78,
   "metadata": {},
   "outputs": [],
   "source": [
    "import numpy as np\n",
    "import pandas as pd\n",
    "import seaborn as sns"
   ]
  },
  {
   "cell_type": "code",
   "execution_count": 89,
   "metadata": {},
   "outputs": [
    {
     "data": {
      "text/plain": [
       "dtype('O')"
      ]
     },
     "execution_count": 89,
     "metadata": {},
     "output_type": "execute_result"
    }
   ],
   "source": [
    "# load data in DataFrame\n",
    "df = pd.read_excel(\"LUKE_ripe_berries_observation_dates.xlsx\")\n",
    "\n",
    "# translate some columns\n",
    "df = df.rename(columns={\"marja\": \"berry\", \"havainto pvm\": \"observation_date\", \"pääpuulaji\": \"main_tree_type\",\n",
    "         \"muu puulaji\": \"secondary_tree_type\", \"metsän kehitysluokka\": \"forest_development_class\"})\n",
    "\n",
    "# drop unneeded columns (for now)\n",
    "df = df.drop(\"vaihe\", axis=1)\n",
    "df = df.drop(\"Välimatka karkeistetun ja todellisen sijainnin välillä\", axis=1)\n",
    "\n",
    "# translate the berry names\n",
    "df['berry'] = df['berry'].replace(['mustikka'], 'bilberry')\n",
    "df['berry'] = df['berry'].replace(['puolukka'], 'lingonberry')\n",
    "df['berry'] = df['berry'].replace(['suomuurain'], 'cloudberry')\n",
    "\n",
    "# translate main tree type\n",
    "df['main_tree_type'] = df['main_tree_type'].replace(['koivu'], 'birch')\n",
    "df['main_tree_type'] = df['main_tree_type'].replace(['kuusi'], 'spruce')\n",
    "df['main_tree_type'] = df['main_tree_type'].replace(['mänty'], 'pine')\n",
    "df['main_tree_type'] = df['main_tree_type'].replace(['muu'], 'other')\n",
    "\n",
    "# helper function to replace \"other\" with the secondary tree type\n",
    "def replace_other_tree_type(row):\n",
    "    if row['main_tree_type'] == \"other\":\n",
    "        return row['secondary_tree_type'].lower().replace(\" \", \"\")\n",
    "    else:\n",
    "        return row['main_tree_type']\n",
    "\n",
    "\n",
    "df['main_tree_type'] = df.apply(replace_other_tree_type, axis=1)\n",
    "\n",
    "# translating the secondary forest types too\n",
    "df['main_tree_type'] = df['main_tree_type'].replace('suo', 'swamp')\n",
    "df['main_tree_type'] = df['main_tree_type'].replace('suota', 'swamp')\n",
    "df['main_tree_type'] = df['main_tree_type'].replace('suopohja', 'swamp')\n",
    "df['main_tree_type'] = df['main_tree_type'].replace('sekametsä', 'mixed')\n",
    "df['main_tree_type'] = df['main_tree_type'].replace('seka', 'mixed')\n",
    "df['main_tree_type'] = df['main_tree_type'].replace('sekapuusto', 'mixed')\n",
    "df['main_tree_type'] = df['main_tree_type'].replace('lehtikuusi', 'larch')\n",
    "df['main_tree_type'] = df['main_tree_type'].replace('aukea', 'open')\n",
    "df['main_tree_type'] = df['main_tree_type'].replace('aukio', 'open')\n",
    "df['main_tree_type'] = df['main_tree_type'].replace('eipuita', 'open')\n",
    "df['main_tree_type'] = df['main_tree_type'].replace('puuton', 'open')\n",
    "df['main_tree_type'] = df['main_tree_type'].replace('vanhaavaivaiskoivua', 'softbirch')\n",
    "df['main_tree_type'] = df['main_tree_type'].replace('vaivaiskoivikko', 'softbirch')\n",
    "\n",
    "# now we only have values in English\n",
    "df['main_tree_type'].value_counts()\n",
    "\n",
    "df['main_tree_type'] = df['main_tree_type'].astype(str)\n",
    "\n",
    "df = df.drop(\"secondary_tree_type\", axis=1)\n",
    "\n",
    "# kasvatusmetsä = plantation_forest\n",
    "# taimikko = seedling\n",
    "# varttunut metsä = old_forest\n",
    "# aukea = clearing\n",
    "\n",
    "# translate the forest development class\n",
    "df['forest_development_class'] = df['forest_development_class'].replace(['aukea'], 'clearing')\n",
    "df['forest_development_class'] = df['forest_development_class'].replace(['taimikko'], 'seedling')\n",
    "df['forest_development_class'] = df['forest_development_class'].replace(['varttunut metsä'], 'old')\n",
    "df['forest_development_class'] = df['forest_development_class'].replace(['kasvatusmetsä'], 'plantation')\n",
    "\n",
    "# split the observation date into year, month, day and also a week number\n",
    "df['year'] = df['observation_date'].dt.year\n",
    "df['month'] = df['observation_date'].dt.month\n",
    "df['day'] = df['observation_date'].dt.day\n",
    "df['week_number'] = df['observation_date'].dt.isocalendar().week\n",
    "\n",
    "df['berry'] = df['berry'].astype(str)\n",
    "df['berry'].dtype\n"
   ]
  }
 ],
 "metadata": {
  "kernelspec": {
   "display_name": "Python 3.9.13 ('.venv': venv)",
   "language": "python",
   "name": "python3"
  },
  "language_info": {
   "codemirror_mode": {
    "name": "ipython",
    "version": 3
   },
   "file_extension": ".py",
   "mimetype": "text/x-python",
   "name": "python",
   "nbconvert_exporter": "python",
   "pygments_lexer": "ipython3",
   "version": "3.9.13"
  },
  "orig_nbformat": 4,
  "vscode": {
   "interpreter": {
    "hash": "8544013bb5ee00a6b36145eaa8d717abd0f46e906ee65ff52dc2ec64e749734d"
   }
  }
 },
 "nbformat": 4,
 "nbformat_minor": 2
}
